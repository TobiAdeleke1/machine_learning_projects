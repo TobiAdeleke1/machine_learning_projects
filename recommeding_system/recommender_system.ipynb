{
 "cells": [
  {
   "cell_type": "code",
   "execution_count": 10,
   "metadata": {},
   "outputs": [],
   "source": [
    "import numpy as np\n",
    "import pandas as pd\n"
   ]
  },
  {
   "cell_type": "code",
   "execution_count": 19,
   "metadata": {},
   "outputs": [],
   "source": [
    "import matplotlib.pyplot as plt\n",
    "import seaborn as sns\n",
    "%matplotlib inline"
   ]
  },
  {
   "cell_type": "code",
   "execution_count": 11,
   "metadata": {},
   "outputs": [],
   "source": [
    "#source: https://data.cms.gov/provider-data/dataset/84jm-wiui\n",
    "hospital_df= pd.read_csv('datasets/HCAHPS-State.csv')"
   ]
  },
  {
   "cell_type": "code",
   "execution_count": 12,
   "metadata": {},
   "outputs": [
    {
     "data": {
      "text/html": [
       "<div>\n",
       "<style scoped>\n",
       "    .dataframe tbody tr th:only-of-type {\n",
       "        vertical-align: middle;\n",
       "    }\n",
       "\n",
       "    .dataframe tbody tr th {\n",
       "        vertical-align: top;\n",
       "    }\n",
       "\n",
       "    .dataframe thead th {\n",
       "        text-align: right;\n",
       "    }\n",
       "</style>\n",
       "<table border=\"1\" class=\"dataframe\">\n",
       "  <thead>\n",
       "    <tr style=\"text-align: right;\">\n",
       "      <th></th>\n",
       "      <th>State</th>\n",
       "      <th>HCAHPS Measure ID</th>\n",
       "      <th>HCAHPS Question</th>\n",
       "      <th>HCAHPS Answer Description</th>\n",
       "      <th>HCAHPS Answer Percent</th>\n",
       "      <th>Footnote</th>\n",
       "      <th>Start Date</th>\n",
       "      <th>End Date</th>\n",
       "    </tr>\n",
       "  </thead>\n",
       "  <tbody>\n",
       "    <tr>\n",
       "      <th>0</th>\n",
       "      <td>AK</td>\n",
       "      <td>H_COMP_1_A_P</td>\n",
       "      <td>Patients who reported that their nurses \"Alway...</td>\n",
       "      <td>Nurses \"always\" communicated well</td>\n",
       "      <td>78</td>\n",
       "      <td>NaN</td>\n",
       "      <td>07/01/2020</td>\n",
       "      <td>03/31/2021</td>\n",
       "    </tr>\n",
       "    <tr>\n",
       "      <th>1</th>\n",
       "      <td>AK</td>\n",
       "      <td>H_COMP_1_SN_P</td>\n",
       "      <td>Patients who reported that their nurses \"Somet...</td>\n",
       "      <td>Nurses \"sometimes\" or \"never\" communicated well</td>\n",
       "      <td>4</td>\n",
       "      <td>NaN</td>\n",
       "      <td>07/01/2020</td>\n",
       "      <td>03/31/2021</td>\n",
       "    </tr>\n",
       "    <tr>\n",
       "      <th>2</th>\n",
       "      <td>AK</td>\n",
       "      <td>H_COMP_1_U_P</td>\n",
       "      <td>Patients who reported that their nurses \"Usual...</td>\n",
       "      <td>Nurses \"usually\" communicated well</td>\n",
       "      <td>18</td>\n",
       "      <td>NaN</td>\n",
       "      <td>07/01/2020</td>\n",
       "      <td>03/31/2021</td>\n",
       "    </tr>\n",
       "    <tr>\n",
       "      <th>3</th>\n",
       "      <td>AK</td>\n",
       "      <td>H_NURSE_RESPECT_A_P</td>\n",
       "      <td>Patients who reported that their nurses \"Alway...</td>\n",
       "      <td>Nurses \"always\" treated them with courtesy and...</td>\n",
       "      <td>87</td>\n",
       "      <td>NaN</td>\n",
       "      <td>07/01/2020</td>\n",
       "      <td>03/31/2021</td>\n",
       "    </tr>\n",
       "    <tr>\n",
       "      <th>4</th>\n",
       "      <td>AK</td>\n",
       "      <td>H_NURSE_RESPECT_SN_P</td>\n",
       "      <td>Patients who reported that their nurses \"Somet...</td>\n",
       "      <td>Nurses \"sometimes\" or \"never\" treated them wit...</td>\n",
       "      <td>2</td>\n",
       "      <td>NaN</td>\n",
       "      <td>07/01/2020</td>\n",
       "      <td>03/31/2021</td>\n",
       "    </tr>\n",
       "  </tbody>\n",
       "</table>\n",
       "</div>"
      ],
      "text/plain": [
       "  State     HCAHPS Measure ID  \\\n",
       "0    AK          H_COMP_1_A_P   \n",
       "1    AK         H_COMP_1_SN_P   \n",
       "2    AK          H_COMP_1_U_P   \n",
       "3    AK   H_NURSE_RESPECT_A_P   \n",
       "4    AK  H_NURSE_RESPECT_SN_P   \n",
       "\n",
       "                                     HCAHPS Question  \\\n",
       "0  Patients who reported that their nurses \"Alway...   \n",
       "1  Patients who reported that their nurses \"Somet...   \n",
       "2  Patients who reported that their nurses \"Usual...   \n",
       "3  Patients who reported that their nurses \"Alway...   \n",
       "4  Patients who reported that their nurses \"Somet...   \n",
       "\n",
       "                           HCAHPS Answer Description HCAHPS Answer Percent  \\\n",
       "0                  Nurses \"always\" communicated well                    78   \n",
       "1    Nurses \"sometimes\" or \"never\" communicated well                     4   \n",
       "2                 Nurses \"usually\" communicated well                    18   \n",
       "3  Nurses \"always\" treated them with courtesy and...                    87   \n",
       "4  Nurses \"sometimes\" or \"never\" treated them wit...                     2   \n",
       "\n",
       "   Footnote  Start Date    End Date  \n",
       "0       NaN  07/01/2020  03/31/2021  \n",
       "1       NaN  07/01/2020  03/31/2021  \n",
       "2       NaN  07/01/2020  03/31/2021  \n",
       "3       NaN  07/01/2020  03/31/2021  \n",
       "4       NaN  07/01/2020  03/31/2021  "
      ]
     },
     "execution_count": 12,
     "metadata": {},
     "output_type": "execute_result"
    }
   ],
   "source": [
    "hospital_df.head()"
   ]
  },
  {
   "cell_type": "code",
   "execution_count": 13,
   "metadata": {},
   "outputs": [
    {
     "name": "stdout",
     "output_type": "stream",
     "text": [
      "4032\n"
     ]
    }
   ],
   "source": [
    "print(len(hospital_df))"
   ]
  },
  {
   "cell_type": "code",
   "execution_count": 14,
   "metadata": {},
   "outputs": [
    {
     "data": {
      "text/plain": [
       "Index(['State', 'HCAHPS Measure ID', 'HCAHPS Question',\n",
       "       'HCAHPS Answer Description', 'HCAHPS Answer Percent', 'Footnote',\n",
       "       'Start Date', 'End Date'],\n",
       "      dtype='object')"
      ]
     },
     "execution_count": 14,
     "metadata": {},
     "output_type": "execute_result"
    }
   ],
   "source": [
    "hospital_df.columns"
   ]
  },
  {
   "cell_type": "markdown",
   "metadata": {},
   "source": [
    "# Explore data"
   ]
  },
  {
   "cell_type": "code",
   "execution_count": 15,
   "metadata": {},
   "outputs": [
    {
     "data": {
      "text/plain": [
       "56"
      ]
     },
     "execution_count": 15,
     "metadata": {},
     "output_type": "execute_result"
    }
   ],
   "source": [
    "hospital_df['State'].nunique()"
   ]
  },
  {
   "cell_type": "code",
   "execution_count": 16,
   "metadata": {},
   "outputs": [
    {
     "data": {
      "text/plain": [
       "72"
      ]
     },
     "execution_count": 16,
     "metadata": {},
     "output_type": "execute_result"
    }
   ],
   "source": [
    "#different \n",
    "hospital_df['HCAHPS Measure ID'].nunique()"
   ]
  },
  {
   "cell_type": "code",
   "execution_count": 42,
   "metadata": {},
   "outputs": [
    {
     "data": {
      "text/plain": [
       "array(['78', '4', '18', '87', '2', '11', '74', '5', '21', '73', '6', '17',\n",
       "       '86', '3', '76', '71', '23', '63', '12', '25', '65', '8', '27',\n",
       "       '62', '20', '72', '10', '53', '26', '88', '13', '89', '43', '52',\n",
       "       '48', '46', '44', '50', '32', '59', '28', '7', '70', '81', '14',\n",
       "       '85', '16', '83', '82', '79', '15', '69', '19', '68', '66', '9',\n",
       "       '42', '47', '45', '38', '57', '80', '77', '22', '30', '51', '49',\n",
       "       '37', '58', 'Not Available', '84', '61', '24', '60', '40', '56',\n",
       "       '67', '75', '39', '55', '90', '41', '54', '35', '33', '29', '64',\n",
       "       '36', '34', '91', '31', '1'], dtype=object)"
      ]
     },
     "execution_count": 42,
     "metadata": {},
     "output_type": "execute_result"
    }
   ],
   "source": [
    "hospital_df['HCAHPS Answer Percent'].unique()"
   ]
  },
  {
   "cell_type": "code",
   "execution_count": 45,
   "metadata": {},
   "outputs": [],
   "source": [
    "hospital_df.replace('Not Available',0,inplace=True)"
   ]
  },
  {
   "cell_type": "code",
   "execution_count": 46,
   "metadata": {},
   "outputs": [
    {
     "data": {
      "text/plain": [
       "array(['78', '4', '18', '87', '2', '11', '74', '5', '21', '73', '6', '17',\n",
       "       '86', '3', '76', '71', '23', '63', '12', '25', '65', '8', '27',\n",
       "       '62', '20', '72', '10', '53', '26', '88', '13', '89', '43', '52',\n",
       "       '48', '46', '44', '50', '32', '59', '28', '7', '70', '81', '14',\n",
       "       '85', '16', '83', '82', '79', '15', '69', '19', '68', '66', '9',\n",
       "       '42', '47', '45', '38', '57', '80', '77', '22', '30', '51', '49',\n",
       "       '37', '58', 0, '84', '61', '24', '60', '40', '56', '67', '75',\n",
       "       '39', '55', '90', '41', '54', '35', '33', '29', '64', '36', '34',\n",
       "       '91', '31', '1'], dtype=object)"
      ]
     },
     "execution_count": 46,
     "metadata": {},
     "output_type": "execute_result"
    }
   ],
   "source": [
    "hospital_df['HCAHPS Answer Percent'].unique()"
   ]
  },
  {
   "cell_type": "code",
   "execution_count": 54,
   "metadata": {},
   "outputs": [
    {
     "data": {
      "text/plain": [
       "str"
      ]
     },
     "execution_count": 54,
     "metadata": {},
     "output_type": "execute_result"
    }
   ],
   "source": [
    "type(hospital_df['HCAHPS Answer Percent'][0])"
   ]
  },
  {
   "cell_type": "code",
   "execution_count": 55,
   "metadata": {},
   "outputs": [],
   "source": [
    "hospital_df['HCAHPS Answer Percent']= hospital_df['HCAHPS Answer Percent'].apply(lambda x: int(x))"
   ]
  },
  {
   "cell_type": "code",
   "execution_count": 56,
   "metadata": {},
   "outputs": [
    {
     "data": {
      "text/plain": [
       "numpy.int64"
      ]
     },
     "execution_count": 56,
     "metadata": {},
     "output_type": "execute_result"
    }
   ],
   "source": [
    "type(hospital_df['HCAHPS Answer Percent'][0])"
   ]
  },
  {
   "cell_type": "code",
   "execution_count": 47,
   "metadata": {},
   "outputs": [
    {
     "data": {
      "text/plain": [
       "array(['H_COMP_1_A_P', 'H_COMP_1_SN_P', 'H_COMP_1_U_P',\n",
       "       'H_NURSE_RESPECT_A_P', 'H_NURSE_RESPECT_SN_P',\n",
       "       'H_NURSE_RESPECT_U_P', 'H_NURSE_LISTEN_A_P', 'H_NURSE_LISTEN_SN_P',\n",
       "       'H_NURSE_LISTEN_U_P', 'H_NURSE_EXPLAIN_A_P',\n",
       "       'H_NURSE_EXPLAIN_SN_P', 'H_NURSE_EXPLAIN_U_P', 'H_COMP_2_A_P',\n",
       "       'H_COMP_2_SN_P', 'H_COMP_2_U_P', 'H_DOCTOR_RESPECT_A_P',\n",
       "       'H_DOCTOR_RESPECT_SN_P', 'H_DOCTOR_RESPECT_U_P',\n",
       "       'H_DOCTOR_LISTEN_A_P', 'H_DOCTOR_LISTEN_SN_P',\n",
       "       'H_DOCTOR_LISTEN_U_P', 'H_DOCTOR_EXPLAIN_A_P',\n",
       "       'H_DOCTOR_EXPLAIN_SN_P', 'H_DOCTOR_EXPLAIN_U_P', 'H_COMP_3_A_P',\n",
       "       'H_COMP_3_SN_P', 'H_COMP_3_U_P', 'H_CALL_BUTTON_A_P',\n",
       "       'H_CALL_BUTTON_SN_P', 'H_CALL_BUTTON_U_P', 'H_BATH_HELP_A_P',\n",
       "       'H_BATH_HELP_SN_P', 'H_BATH_HELP_U_P', 'H_COMP_5_A_P',\n",
       "       'H_COMP_5_SN_P', 'H_COMP_5_U_P', 'H_MED_FOR_A_P', 'H_MED_FOR_SN_P',\n",
       "       'H_MED_FOR_U_P', 'H_SIDE_EFFECTS_A_P', 'H_SIDE_EFFECTS_SN_P',\n",
       "       'H_SIDE_EFFECTS_U_P', 'H_COMP_6_N_P', 'H_COMP_6_Y_P',\n",
       "       'H_DISCH_HELP_N_P', 'H_DISCH_HELP_Y_P', 'H_SYMPTOMS_N_P',\n",
       "       'H_SYMPTOMS_Y_P', 'H_COMP_7_A', 'H_COMP_7_D_SD', 'H_COMP_7_SA',\n",
       "       'H_CT_PREFER_A', 'H_CT_PREFER_D_SD', 'H_CT_PREFER_SA',\n",
       "       'H_CT_UNDER_A', 'H_CT_UNDER_D_SD', 'H_CT_UNDER_SA', 'H_CT_MED_A',\n",
       "       'H_CT_MED_D_SD', 'H_CT_MED_SA', 'H_CLEAN_HSP_A_P',\n",
       "       'H_CLEAN_HSP_SN_P', 'H_CLEAN_HSP_U_P', 'H_QUIET_HSP_A_P',\n",
       "       'H_QUIET_HSP_SN_P', 'H_QUIET_HSP_U_P', 'H_HSP_RATING_0_6',\n",
       "       'H_HSP_RATING_7_8', 'H_HSP_RATING_9_10', 'H_RECMND_DN',\n",
       "       'H_RECMND_DY', 'H_RECMND_PY'], dtype=object)"
      ]
     },
     "execution_count": 47,
     "metadata": {},
     "output_type": "execute_result"
    }
   ],
   "source": [
    "hospital_df['HCAHPS Measure ID'].unique()"
   ]
  },
  {
   "cell_type": "code",
   "execution_count": 48,
   "metadata": {},
   "outputs": [
    {
     "data": {
      "text/plain": [
       "array(['Nurses \"always\" communicated well',\n",
       "       'Nurses \"sometimes\" or \"never\" communicated well',\n",
       "       'Nurses \"usually\" communicated well',\n",
       "       'Nurses \"always\" treated them with courtesy and  respect',\n",
       "       'Nurses \"sometimes\" or \"never\" treated them with courtesy and  respect',\n",
       "       'Nurses \"usually\"  treated them with courtesy and  respect',\n",
       "       'Nurses \"always\" listened carefully',\n",
       "       'Nurses \"sometimes\" or \"never\" listened carefully',\n",
       "       'Nurses \"usually\" listened carefully',\n",
       "       'Nurses \"always\" explained things so they could understand',\n",
       "       'Nurses \"sometimes\" or \"never\" explained things so they could understand',\n",
       "       'Nurses \"usually\" explained things so they could understand',\n",
       "       'Doctors \"always\" communicated well',\n",
       "       'Doctors \"sometimes\" or \"never\" communicated well',\n",
       "       'Doctors \"usually\" communicated well',\n",
       "       'Doctors \"always\" treated them with courtesy and  respect',\n",
       "       'Doctors \"sometimes\" or \"never\" treated them with courtesy and  respect',\n",
       "       'Doctors \"usually\"  treated them with courtesy and  respect',\n",
       "       'Doctors \"always\" listened carefully',\n",
       "       'Doctors \"sometimes\" or \"never\" listened carefully',\n",
       "       'Doctors \"usually\" listened carefully',\n",
       "       'Doctors \"always\" explained things so they could understand',\n",
       "       'Doctors \"sometimes\" or \"never\" explained things so they could understand',\n",
       "       'Doctors \"usually\" explained things so they could understand',\n",
       "       'Patients \"always\" received help as soon as they wanted',\n",
       "       'Patients \"sometimes\" or \"never\" received help as soon as they wanted',\n",
       "       'Patients \"usually\" received help as soon as they wanted',\n",
       "       'Patients \"always\" received call button help as soon as they wanted',\n",
       "       'Patients \"sometimes\" or \"never\" received call button help as soon as they wanted',\n",
       "       'Patients \"usually\" received call button help as soon as they wanted',\n",
       "       'Patients \"always\" received bathroom help as soon as they wanted',\n",
       "       'Patients \"sometimes\" or \"never\" received bathroom help as soon as they wanted',\n",
       "       'Patients \"usually\" received bathroom help as soon as they wanted',\n",
       "       'Staff \"always\" explained',\n",
       "       'Staff \"sometimes\" or \"never\" explained',\n",
       "       'Staff \"usually\" explained',\n",
       "       'Staff \"always\" explained new medications',\n",
       "       'Staff \"sometimes\" or \"never\" explained new medications',\n",
       "       'Staff \"usually\" explained new medications',\n",
       "       'Staff \"always\" explained possible side effects',\n",
       "       'Staff \"sometimes\" or \"never\" explained possible side effects',\n",
       "       'Staff \"usually\" explained possible side effects',\n",
       "       'No, staff \"did not\" give patients this information',\n",
       "       'Yes, staff \"did\" give patients this information',\n",
       "       'No, staff \"did not\" give patients information about help after discharge',\n",
       "       'Yes, staff \"did\" give patients information about help after discharge',\n",
       "       'No, staff \"did not\" give patients information about possible symptoms',\n",
       "       'Yes, staff \"did\" give patients information about possible symptoms',\n",
       "       'Patients who \"Agree\" they understood their care when they left the hospital',\n",
       "       'Patients who \"Disagree\" or \"Strongly Disagree\" they understood their care when they left the hospital',\n",
       "       'Patients who \"Strongly Agree\" they understood their care when they left the hospital',\n",
       "       'Patients who \"Agree\" that staff took their preferences into account',\n",
       "       'Patients who \"Disagree\" or \"Strongly Disagree\" that staff took their preferences into account',\n",
       "       'Patients who \"Strongly Agree\" that staff took their preferences into account',\n",
       "       'Patients who \"Agree\" they understood their responsiblities when they left the hospital',\n",
       "       'Patients who \"Disagree\" or \"Strongly Disagree\" they understood their responsiblities when they left the hospital',\n",
       "       'Patients who \"Strongly Agree\" they understood their responsiblities when they left the hospital',\n",
       "       'Patients who \"Agree\" they understood their medications when they left the hospital',\n",
       "       'Patients who \"Disagree\" or \"Strongly Disagree\" they understood their medications when they left the hospital',\n",
       "       'Patients who \"Strongly Agree\" they understood their medications when they left the hospital',\n",
       "       'Room was \"always\" clean', 'Room was \"sometimes\" or \"never\" clean',\n",
       "       'Room was \"usually\" clean', '\"Always\" quiet at night',\n",
       "       '\"Sometimes\" or \"never\" quiet at night',\n",
       "       '\"Usually\" quiet at night',\n",
       "       'Patients who gave a rating of \"6\" or lower (low)',\n",
       "       'Patients who gave a rating of \"7\" or \"8\" (medium)',\n",
       "       'Patients who gave a rating of \"9\" or \"10\" (high)',\n",
       "       '\"NO\", patients would not recommend the hospital (they probably would not or definitely would not recommend it)',\n",
       "       '\"YES\", patients would definitely recommend the hospital',\n",
       "       '\"YES\", patients would probably recommend the hospital'],\n",
       "      dtype=object)"
      ]
     },
     "execution_count": 48,
     "metadata": {},
     "output_type": "execute_result"
    }
   ],
   "source": [
    "hospital_df['HCAHPS Answer Description'].unique()"
   ]
  },
  {
   "cell_type": "code",
   "execution_count": 64,
   "metadata": {},
   "outputs": [],
   "source": [
    "#dict of 'HCAHPS Answer Description' and 'HCAHPS Measure ID' to translate IDs\n",
    "hcahps_dict= dict(zip(hospital_df['HCAHPS Measure ID'],hospital_df['HCAHPS Answer Description']))"
   ]
  },
  {
   "cell_type": "code",
   "execution_count": 65,
   "metadata": {},
   "outputs": [],
   "source": [
    "sns.set_style('dark')"
   ]
  },
  {
   "cell_type": "code",
   "execution_count": 66,
   "metadata": {},
   "outputs": [
    {
     "data": {
      "text/plain": [
       "State\n",
       "WY    34.722222\n",
       "ID    34.722222\n",
       "MO    34.722222\n",
       "MN    34.722222\n",
       "MI    34.722222\n",
       "ME    34.722222\n",
       "MD    34.722222\n",
       "MA    34.722222\n",
       "LA    34.722222\n",
       "KY    34.722222\n",
       "KS    34.722222\n",
       "IN    34.722222\n",
       "IL    34.722222\n",
       "IA    34.722222\n",
       "MS    34.722222\n",
       "HI    34.722222\n",
       "GA    34.722222\n",
       "FL    34.722222\n",
       "DE    34.722222\n",
       "DC    34.722222\n",
       "CT    34.722222\n",
       "CO    34.722222\n",
       "CA    34.722222\n",
       "AZ    34.722222\n",
       "AR    34.722222\n",
       "AL    34.722222\n",
       "WV    34.722222\n",
       "AK    34.722222\n",
       "MT    34.722222\n",
       "PR    34.722222\n",
       "WI    34.722222\n",
       "WA    34.722222\n",
       "VT    34.722222\n",
       "VA    34.722222\n",
       "UT    34.722222\n",
       "TX    34.722222\n",
       "TN    34.722222\n",
       "SD    34.722222\n",
       "SC    34.722222\n",
       "NC    34.722222\n",
       "RI    34.722222\n",
       "PA    34.722222\n",
       "OR    34.722222\n",
       "OK    34.722222\n",
       "OH    34.722222\n",
       "NY    34.722222\n",
       "NV    34.722222\n",
       "NM    34.722222\n",
       "NJ    34.722222\n",
       "NH    34.722222\n",
       "NE    34.722222\n",
       "ND    34.722222\n",
       "GU     0.000000\n",
       "VI     0.000000\n",
       "AS     0.000000\n",
       "MP     0.000000\n",
       "Name: HCAHPS Answer Percent, dtype: float64"
      ]
     },
     "execution_count": 66,
     "metadata": {},
     "output_type": "execute_result"
    }
   ],
   "source": [
    "hospital_df.groupby('State')['HCAHPS Answer Percent'].mean().sort_values(ascending=False)"
   ]
  },
  {
   "cell_type": "code",
   "execution_count": 32,
   "metadata": {},
   "outputs": [
    {
     "data": {
      "text/plain": [
       "HCAHPS Measure ID\n",
       "H_SYMPTOMS_Y_P       56\n",
       "H_SYMPTOMS_N_P       56\n",
       "H_COMP_5_SN_P        56\n",
       "H_COMP_5_U_P         56\n",
       "H_COMP_6_N_P         56\n",
       "                     ..\n",
       "H_HSP_RATING_9_10    56\n",
       "H_MED_FOR_A_P        56\n",
       "H_MED_FOR_SN_P       56\n",
       "H_MED_FOR_U_P        56\n",
       "H_BATH_HELP_A_P      56\n",
       "Name: HCAHPS Answer Description, Length: 72, dtype: int64"
      ]
     },
     "execution_count": 32,
     "metadata": {},
     "output_type": "execute_result"
    }
   ],
   "source": [
    "hospital_df.groupby('HCAHPS Measure ID')['HCAHPS Answer Description'].count().sort_values(ascending=False)"
   ]
  },
  {
   "cell_type": "code",
   "execution_count": 59,
   "metadata": {},
   "outputs": [
    {
     "data": {
      "text/plain": [
       "HCAHPS Measure ID\n",
       "H_SYMPTOMS_Y_P       56\n",
       "H_SYMPTOMS_N_P       56\n",
       "H_COMP_5_SN_P        56\n",
       "H_COMP_5_U_P         56\n",
       "H_COMP_6_N_P         56\n",
       "                     ..\n",
       "H_HSP_RATING_9_10    56\n",
       "H_MED_FOR_A_P        56\n",
       "H_MED_FOR_SN_P       56\n",
       "H_MED_FOR_U_P        56\n",
       "H_BATH_HELP_A_P      56\n",
       "Name: HCAHPS Answer Percent, Length: 72, dtype: int64"
      ]
     },
     "execution_count": 59,
     "metadata": {},
     "output_type": "execute_result"
    }
   ],
   "source": [
    "hospital_df.groupby('HCAHPS Measure ID')['HCAHPS Answer Percent'].count().sort_values(ascending=False)"
   ]
  },
  {
   "cell_type": "code",
   "execution_count": 60,
   "metadata": {},
   "outputs": [
    {
     "data": {
      "text/plain": [
       "HCAHPS Measure ID\n",
       "H_SYMPTOMS_Y_P           81.750000\n",
       "H_DOCTOR_RESPECT_A_P     80.517857\n",
       "H_NURSE_RESPECT_A_P      80.339286\n",
       "H_COMP_6_Y_P             80.196429\n",
       "H_DISCH_HELP_Y_P         78.285714\n",
       "                           ...    \n",
       "H_COMP_2_SN_P             4.625000\n",
       "H_CT_MED_D_SD             4.625000\n",
       "H_COMP_1_SN_P             4.214286\n",
       "H_DOCTOR_RESPECT_SN_P     3.250000\n",
       "H_NURSE_RESPECT_SN_P      2.982143\n",
       "Name: HCAHPS Answer Percent, Length: 72, dtype: float64"
      ]
     },
     "execution_count": 60,
     "metadata": {},
     "output_type": "execute_result"
    }
   ],
   "source": [
    "hospital_df.groupby('HCAHPS Measure ID')['HCAHPS Answer Percent'].mean().sort_values(ascending=False)"
   ]
  },
  {
   "cell_type": "code",
   "execution_count": 70,
   "metadata": {},
   "outputs": [
    {
     "data": {
      "text/plain": [
       "dict_keys(['H_COMP_1_A_P', 'H_COMP_1_SN_P', 'H_COMP_1_U_P', 'H_NURSE_RESPECT_A_P', 'H_NURSE_RESPECT_SN_P', 'H_NURSE_RESPECT_U_P', 'H_NURSE_LISTEN_A_P', 'H_NURSE_LISTEN_SN_P', 'H_NURSE_LISTEN_U_P', 'H_NURSE_EXPLAIN_A_P', 'H_NURSE_EXPLAIN_SN_P', 'H_NURSE_EXPLAIN_U_P', 'H_COMP_2_A_P', 'H_COMP_2_SN_P', 'H_COMP_2_U_P', 'H_DOCTOR_RESPECT_A_P', 'H_DOCTOR_RESPECT_SN_P', 'H_DOCTOR_RESPECT_U_P', 'H_DOCTOR_LISTEN_A_P', 'H_DOCTOR_LISTEN_SN_P', 'H_DOCTOR_LISTEN_U_P', 'H_DOCTOR_EXPLAIN_A_P', 'H_DOCTOR_EXPLAIN_SN_P', 'H_DOCTOR_EXPLAIN_U_P', 'H_COMP_3_A_P', 'H_COMP_3_SN_P', 'H_COMP_3_U_P', 'H_CALL_BUTTON_A_P', 'H_CALL_BUTTON_SN_P', 'H_CALL_BUTTON_U_P', 'H_BATH_HELP_A_P', 'H_BATH_HELP_SN_P', 'H_BATH_HELP_U_P', 'H_COMP_5_A_P', 'H_COMP_5_SN_P', 'H_COMP_5_U_P', 'H_MED_FOR_A_P', 'H_MED_FOR_SN_P', 'H_MED_FOR_U_P', 'H_SIDE_EFFECTS_A_P', 'H_SIDE_EFFECTS_SN_P', 'H_SIDE_EFFECTS_U_P', 'H_COMP_6_N_P', 'H_COMP_6_Y_P', 'H_DISCH_HELP_N_P', 'H_DISCH_HELP_Y_P', 'H_SYMPTOMS_N_P', 'H_SYMPTOMS_Y_P', 'H_COMP_7_A', 'H_COMP_7_D_SD', 'H_COMP_7_SA', 'H_CT_PREFER_A', 'H_CT_PREFER_D_SD', 'H_CT_PREFER_SA', 'H_CT_UNDER_A', 'H_CT_UNDER_D_SD', 'H_CT_UNDER_SA', 'H_CT_MED_A', 'H_CT_MED_D_SD', 'H_CT_MED_SA', 'H_CLEAN_HSP_A_P', 'H_CLEAN_HSP_SN_P', 'H_CLEAN_HSP_U_P', 'H_QUIET_HSP_A_P', 'H_QUIET_HSP_SN_P', 'H_QUIET_HSP_U_P', 'H_HSP_RATING_0_6', 'H_HSP_RATING_7_8', 'H_HSP_RATING_9_10', 'H_RECMND_DN', 'H_RECMND_DY', 'H_RECMND_PY'])"
      ]
     },
     "execution_count": 70,
     "metadata": {},
     "output_type": "execute_result"
    }
   ],
   "source": [
    "hcahps_dict.keys()"
   ]
  },
  {
   "cell_type": "code",
   "execution_count": 72,
   "metadata": {},
   "outputs": [
    {
     "name": "stdout",
     "output_type": "stream",
     "text": [
      "No, staff \"did not\" give patients this information\n",
      "No, staff \"did not\" give patients information about possible symptoms\n",
      "Patients \"always\" received bathroom help as soon as they wanted\n",
      "\"NO\", patients would not recommend the hospital (they probably would not or definitely would not recommend it)\n",
      "\"YES\", patients would definitely recommend the hospital\n",
      "\"YES\", patients would probably recommend the hospital\n"
     ]
    }
   ],
   "source": [
    "#use dict for translating ID code\n",
    "print(hcahps_dict['H_COMP_6_N_P'])\n",
    "print(hcahps_dict['H_SYMPTOMS_N_P'])\n",
    "print(hcahps_dict['H_BATH_HELP_A_P'])\n",
    "print(hcahps_dict['H_RECMND_DN'])\n",
    "print(hcahps_dict['H_RECMND_DY'])\n",
    "print(hcahps_dict['H_RECMND_PY'])"
   ]
  },
  {
   "cell_type": "markdown",
   "metadata": {},
   "source": [
    "# Get wanted df slice "
   ]
  },
  {
   "cell_type": "code",
   "execution_count": 73,
   "metadata": {},
   "outputs": [],
   "source": [
    "#get slice of state where patients will definitately and probably the hospital\n",
    "\n",
    "recommeded_df= hospital_df.loc[(hospital_df['HCAHPS Measure ID']=='H_RECMND_DY') | (hospital_df['HCAHPS Measure ID']=='H_RECMND_PY') ]"
   ]
  },
  {
   "cell_type": "code",
   "execution_count": 74,
   "metadata": {},
   "outputs": [
    {
     "data": {
      "text/plain": [
       "112"
      ]
     },
     "execution_count": 74,
     "metadata": {},
     "output_type": "execute_result"
    }
   ],
   "source": [
    "len(recommeded_df)"
   ]
  },
  {
   "cell_type": "code",
   "execution_count": 75,
   "metadata": {},
   "outputs": [
    {
     "data": {
      "text/html": [
       "<div>\n",
       "<style scoped>\n",
       "    .dataframe tbody tr th:only-of-type {\n",
       "        vertical-align: middle;\n",
       "    }\n",
       "\n",
       "    .dataframe tbody tr th {\n",
       "        vertical-align: top;\n",
       "    }\n",
       "\n",
       "    .dataframe thead th {\n",
       "        text-align: right;\n",
       "    }\n",
       "</style>\n",
       "<table border=\"1\" class=\"dataframe\">\n",
       "  <thead>\n",
       "    <tr style=\"text-align: right;\">\n",
       "      <th></th>\n",
       "      <th>State</th>\n",
       "      <th>HCAHPS Measure ID</th>\n",
       "      <th>HCAHPS Question</th>\n",
       "      <th>HCAHPS Answer Description</th>\n",
       "      <th>HCAHPS Answer Percent</th>\n",
       "      <th>Footnote</th>\n",
       "      <th>Start Date</th>\n",
       "      <th>End Date</th>\n",
       "    </tr>\n",
       "  </thead>\n",
       "  <tbody>\n",
       "    <tr>\n",
       "      <th>70</th>\n",
       "      <td>AK</td>\n",
       "      <td>H_RECMND_DY</td>\n",
       "      <td>Patients who reported YES, they would definite...</td>\n",
       "      <td>\"YES\", patients would definitely recommend the...</td>\n",
       "      <td>70</td>\n",
       "      <td>NaN</td>\n",
       "      <td>07/01/2020</td>\n",
       "      <td>03/31/2021</td>\n",
       "    </tr>\n",
       "    <tr>\n",
       "      <th>71</th>\n",
       "      <td>AK</td>\n",
       "      <td>H_RECMND_PY</td>\n",
       "      <td>Patients who reported YES, they would probably...</td>\n",
       "      <td>\"YES\", patients would probably recommend the h...</td>\n",
       "      <td>26</td>\n",
       "      <td>NaN</td>\n",
       "      <td>07/01/2020</td>\n",
       "      <td>03/31/2021</td>\n",
       "    </tr>\n",
       "    <tr>\n",
       "      <th>142</th>\n",
       "      <td>AL</td>\n",
       "      <td>H_RECMND_DY</td>\n",
       "      <td>Patients who reported YES, they would definite...</td>\n",
       "      <td>\"YES\", patients would definitely recommend the...</td>\n",
       "      <td>69</td>\n",
       "      <td>NaN</td>\n",
       "      <td>07/01/2020</td>\n",
       "      <td>03/31/2021</td>\n",
       "    </tr>\n",
       "    <tr>\n",
       "      <th>143</th>\n",
       "      <td>AL</td>\n",
       "      <td>H_RECMND_PY</td>\n",
       "      <td>Patients who reported YES, they would probably...</td>\n",
       "      <td>\"YES\", patients would probably recommend the h...</td>\n",
       "      <td>25</td>\n",
       "      <td>NaN</td>\n",
       "      <td>07/01/2020</td>\n",
       "      <td>03/31/2021</td>\n",
       "    </tr>\n",
       "    <tr>\n",
       "      <th>214</th>\n",
       "      <td>AR</td>\n",
       "      <td>H_RECMND_DY</td>\n",
       "      <td>Patients who reported YES, they would definite...</td>\n",
       "      <td>\"YES\", patients would definitely recommend the...</td>\n",
       "      <td>69</td>\n",
       "      <td>NaN</td>\n",
       "      <td>07/01/2020</td>\n",
       "      <td>03/31/2021</td>\n",
       "    </tr>\n",
       "  </tbody>\n",
       "</table>\n",
       "</div>"
      ],
      "text/plain": [
       "    State HCAHPS Measure ID  \\\n",
       "70     AK       H_RECMND_DY   \n",
       "71     AK       H_RECMND_PY   \n",
       "142    AL       H_RECMND_DY   \n",
       "143    AL       H_RECMND_PY   \n",
       "214    AR       H_RECMND_DY   \n",
       "\n",
       "                                       HCAHPS Question  \\\n",
       "70   Patients who reported YES, they would definite...   \n",
       "71   Patients who reported YES, they would probably...   \n",
       "142  Patients who reported YES, they would definite...   \n",
       "143  Patients who reported YES, they would probably...   \n",
       "214  Patients who reported YES, they would definite...   \n",
       "\n",
       "                             HCAHPS Answer Description  HCAHPS Answer Percent  \\\n",
       "70   \"YES\", patients would definitely recommend the...                     70   \n",
       "71   \"YES\", patients would probably recommend the h...                     26   \n",
       "142  \"YES\", patients would definitely recommend the...                     69   \n",
       "143  \"YES\", patients would probably recommend the h...                     25   \n",
       "214  \"YES\", patients would definitely recommend the...                     69   \n",
       "\n",
       "     Footnote  Start Date    End Date  \n",
       "70        NaN  07/01/2020  03/31/2021  \n",
       "71        NaN  07/01/2020  03/31/2021  \n",
       "142       NaN  07/01/2020  03/31/2021  \n",
       "143       NaN  07/01/2020  03/31/2021  \n",
       "214       NaN  07/01/2020  03/31/2021  "
      ]
     },
     "execution_count": 75,
     "metadata": {},
     "output_type": "execute_result"
    }
   ],
   "source": [
    "recommeded_df.head()"
   ]
  },
  {
   "cell_type": "code",
   "execution_count": 88,
   "metadata": {},
   "outputs": [
    {
     "data": {
      "text/plain": [
       "Index(['State', 'HCAHPS Measure ID', 'HCAHPS Question',\n",
       "       'HCAHPS Answer Description', 'HCAHPS Answer Percent', 'Footnote',\n",
       "       'Start Date', 'End Date'],\n",
       "      dtype='object')"
      ]
     },
     "execution_count": 88,
     "metadata": {},
     "output_type": "execute_result"
    }
   ],
   "source": [
    "recommeded_df.columns"
   ]
  },
  {
   "cell_type": "code",
   "execution_count": 86,
   "metadata": {},
   "outputs": [
    {
     "data": {
      "text/plain": [
       "<seaborn.axisgrid.PairGrid at 0x236e8245fa0>"
      ]
     },
     "execution_count": 86,
     "metadata": {},
     "output_type": "execute_result"
    },
    {
     "data": {
      "text/plain": [
       "<Figure size 1440x432 with 0 Axes>"
      ]
     },
     "metadata": {},
     "output_type": "display_data"
    },
    {
     "data": {
      "image/png": "[encoded data removed]",
      "text/plain": [
       "<Figure size 180x180 with 2 Axes>"
      ]
     },
     "metadata": {},
     "output_type": "display_data"
    }
   ],
   "source": [
    "#state with most recommened hospitals\n",
    "plt.figure(figsize=(20,6))\n",
    "sns.pairplot(recommeded_df.drop('Footnote',axis=1))"
   ]
  },
  {
   "cell_type": "code",
   "execution_count": 89,
   "metadata": {},
   "outputs": [
    {
     "data": {
      "text/plain": [
       "<seaborn.axisgrid.JointGrid at 0x236e938ef10>"
      ]
     },
     "execution_count": 89,
     "metadata": {},
     "output_type": "execute_result"
    },
    {
     "data": {
      "text/plain": [
       "<Figure size 1440x432 with 0 Axes>"
      ]
     },
     "metadata": {},
     "output_type": "display_data"
    },
    {
     "data": {
      "image/png": "[encoded data removed]",
      "text/plain": [
       "<Figure size 432x432 with 3 Axes>"
      ]
     },
     "metadata": {},
     "output_type": "display_data"
    }
   ],
   "source": [
    "plt.figure(figsize=(20,6))\n",
    "sns.jointplot(x='State', y= 'HCAHPS Answer Percent',data=recommeded_df)\n"
   ]
  },
  {
   "cell_type": "markdown",
   "metadata": {},
   "source": [
    "set standard for "
   ]
  }
 ],
 "metadata": {
  "interpreter": {
   "hash": "b565cb3a29cce545f666d7eae5c8ec4a50d81309db6670d7e9fb6e280240fb44"
  },
  "kernelspec": {
   "display_name": "Python 3.8.5 ('base')",
   "language": "python",
   "name": "python3"
  },
  "language_info": {
   "codemirror_mode": {
    "name": "ipython",
    "version": 3
   },
   "file_extension": ".py",
   "mimetype": "text/x-python",
   "name": "python",
   "nbconvert_exporter": "python",
   "pygments_lexer": "ipython3",
   "version": "3.8.5"
  },
  "orig_nbformat": 4
 },
 "nbformat": 4,
 "nbformat_minor": 2
}
